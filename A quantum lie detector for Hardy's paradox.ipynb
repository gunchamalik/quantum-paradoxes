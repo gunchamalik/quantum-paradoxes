{
 "cells": [
  {
   "cell_type": "markdown",
   "id": "b70dd0d2",
   "metadata": {
    "slideshow": {
     "slide_type": "slide"
    }
   },
   "source": [
    "## A quantum lie detector for Hardy's paradox"
   ]
  },
  {
   "cell_type": "markdown",
   "id": "45bb2276",
   "metadata": {
    "slideshow": {
     "slide_type": "skip"
    }
   },
   "source": [
    "Hello! I'm Maria and I've been using Qiskit to understand quantum paradoxes. If you haven't already, take a look at my video \"[Quantum Lie Detector: How to Win Two Truths and a Lie](https://www.youtube.com/watch?v=kLdvDDHLvOA)\" on the Qiskit YouTube channel or my blog post \"[How to Build a Quantum Lie Detector with Quantum Computers](https://qisk.it/3LcdmVs)\" on the Qiskit Medium blog. There, I explain Hardy's paradox, which shows how classical reasoning breaks down for entangled particles. This was proposed to show a new type of quantum spooky-action-at-a-distance, also known as non-locality, in a stronger way than using Bell inequalities (Again, if you aren’t familiar with these terms, be sure to read my [blog post](https://medium.com/qiskit/how-to-build-a-quantum-lie-detector-with-quantum-computers-464d6456c5ec). \n",
    "\n",
    "In this Jupyter notebook, I'm going to show you the code to build a quantum lie detector using Qiskit, so you can see for yourself where the classical reasoning breaks down. "
   ]
  },
  {
   "cell_type": "markdown",
   "id": "07f69f75",
   "metadata": {
    "slideshow": {
     "slide_type": "skip"
    }
   },
   "source": [
    "Let's play a game of two quantum truths and a lie. Imagine we have two entangled qubits in the state |00> + |01> + |10>, and I give one to Alice and one to Bob. Then Carol tells us three statements about the outcomes that Alice and Bob will get when they measure their qubits. Two of these are true, and one is a lie. You can check each of Carol's statements using the quantum lie detector. "
   ]
  },
  {
   "cell_type": "markdown",
   "id": "8de14c91",
   "metadata": {
    "slideshow": {
     "slide_type": "slide"
    }
   },
   "source": [
    "![Alice_Bob_Carol](new_Alice_Bob_Carol.png)"
   ]
  },
  {
   "cell_type": "markdown",
   "id": "519ea603",
   "metadata": {},
   "source": [
    "You can input whether Alice and Bob measure in their qubits in the x-basis or z-basis, and a measurement outcome that Carol thinks should be forbidden.\n",
    "\n",
    "(1) If Alice and Bob both measure their qubits in the z-basis, the outcome |11> is forbidden.\n",
    "\n",
    "Run the code for the Quantum Lie Detector below, and input \"z\" for Alice's basis, \"z\" for Bob's basis, and \"11\" for the forbidden outcome. You will find that the statement is true. \n",
    "\n",
    "Now Carol's second statement: \n",
    "\n",
    "(2) If Alice measures in z- and Bob measures in x-, the |0 -> state is forbidden. And vice-versa: if Alice measures in x- and Bob in z-, |-0> is forbidden. \n",
    "\n",
    "For the x-basis measurements, an outcome of 0 corresponds to |+> before measurement, and 1 corresponds to |->. So when Alice measures in z and Bob measures in x, |01> is forbidden. Now try checking this - it's true! And if Bob measures in z, and Alice in x, then |10> should be forbidden, which is also true. \n",
    "\n",
    "Now you can test Carol's final statement.\n",
    "\n",
    "(3) If Alice and Bob both measure in the x-basis, then the |--> state is forbidden. \n",
    "\n",
    "This corresponds to an x-measurement outcome of |11> being forbidden. \n",
    "\n",
    "Have a go at checking this - it is a lie! "
   ]
  },
  {
   "cell_type": "code",
   "execution_count": null,
   "id": "4a719e9f",
   "metadata": {},
   "outputs": [],
   "source": [
    "from qiskit import QuantumCircuit, QuantumRegister, ClassicalRegister\n",
    "import numpy as np\n",
    "#from qiskit.providers.aer import QasmSimulator\n",
    "from qiskit_aer import QasmSimulator\n",
    "simulator = QasmSimulator()"
   ]
  },
  {
   "cell_type": "code",
   "execution_count": null,
   "id": "bdb76ca2",
   "metadata": {
    "slideshow": {
     "slide_type": "slide"
    }
   },
   "outputs": [],
   "source": [
    "# Quantum lie detector\n",
    "\n",
    "from qiskit import QuantumCircuit, QuantumRegister, ClassicalRegister\n",
    "import numpy as np\n",
    "from qiskit.providers.aer import QasmSimulator\n",
    "simulator = QasmSimulator()\n",
    "\n",
    "hardy_circuit = QuantumCircuit(2)\n",
    "hardy_circuit.initialize(np.array([1, 1, 1, 0])/np.sqrt(3))\n",
    "hardy_circuit.measure_all()\n",
    "\n",
    "def truth_lie(alice, bob) -> QuantumCircuit:\n",
    "    qr = QuantumRegister(2, 'q')\n",
    "    cr = ClassicalRegister(2, 'c')\n",
    "    qc = QuantumCircuit(qr, cr)\n",
    "    \n",
    "    hardy_circuit.initialize(np.array([1, 0, 1, 1])/np.sqrt(3))\n",
    "    \n",
    "    if alice == \"x\": \n",
    "        qc.h(0)\n",
    "    if bob == \"x\":\n",
    "        qc.h(1)\n",
    "    qc.measure(qr[0],cr[0])\n",
    "    qc.measure(qr[1],cr[1])\n",
    "    return qc\n",
    "\n",
    "a = input(\"What basis does Alice measure in? Type z for z-basis, or x for x-basis.\")\n",
    "b = input(\"What basis does Bob measure in? Type z for z-basis, or x for x-basis.\")\n",
    "\n",
    "truth_lie = truth_lie(a,b)\n",
    "\n",
    "truth_lie_job = simulator.run(truth_lie, shots=1000)\n",
    "truth_lie_result = truth_lie_job.result()\n",
    "truth_lie_counts = truth_lie_result.get_counts(truth_lie)\n",
    "\n",
    "result = sorted(truth_lie_counts.keys())\n",
    "\n",
    "guess = input(\"Which state will never occur?\")\n",
    "\n",
    "toggle = 0 \n",
    "\n",
    "for i in range(len(result)):\n",
    "    if result[i]== guess: \n",
    "        print(\"The statement was a LIE.\")\n",
    "        print(\"There is finite chance of the result:\")\n",
    "        print(guess)\n",
    "        toggle = 1\n",
    "        \n",
    "if toggle == 0: \n",
    "    print(\"The statement was a TRUTH.\")\n",
    "    print(\"There is no chance of the result:\")\n",
    "    print(guess)"
   ]
  },
  {
   "cell_type": "markdown",
   "id": "ba07d19c",
   "metadata": {
    "slideshow": {
     "slide_type": "skip"
    }
   },
   "source": [
    "Carol's quantum lie is at the root of Hardy's paradox, which was proposed in 1992 by Lucien Hardy. I'm going to explain how Hardy's original paradox can be mapped onto Carol's three statements, and how these translate to the quantum circuits I used to build my quantum lie detector."
   ]
  },
  {
   "cell_type": "markdown",
   "id": "6fdc2367",
   "metadata": {
    "slideshow": {
     "slide_type": "skip"
    }
   },
   "source": [
    "Hardy's original thought experiment involved two overlapping interferometers - which can split particles into a superposition of states, and merge them back into one state again. We then pass a particle through one of the interferometers and an antiparticle through the other. Where the interferometers overlap, the particle and antiparticle will annihilate each other - and not be detected at the end. Hardy realised that according to quantum theory, there is a finite chance of measuring an outcome that seems to suggest both particles went down the same path, but without annihilating each other - which should be impossible! "
   ]
  },
  {
   "cell_type": "markdown",
   "id": "602e9673",
   "metadata": {
    "slideshow": {
     "slide_type": "slide"
    }
   },
   "source": [
    "![title](image.png)"
   ]
  },
  {
   "cell_type": "markdown",
   "id": "c279c2aa",
   "metadata": {
    "slideshow": {
     "slide_type": "skip"
    }
   },
   "source": [
    "We can present the particle and antiparticle as qubits, with 0 being one path down the interferometer, and 1 being the other. Then the joint state of the qubits before they are measured needs to have a term where the particles have both gone down the same path missing - let's say this is the |11> term. So, before the qubits are measured, they are in the state |00> + |01> + |10>. We can create this state using the initialize method in qiskit."
   ]
  },
  {
   "cell_type": "code",
   "execution_count": 2,
   "id": "1bc1ed66",
   "metadata": {
    "slideshow": {
     "slide_type": "slide"
    }
   },
   "outputs": [
    {
     "data": {
      "image/png": "[encoded data removed]",
      "text/plain": [
       "<Figure size 478.079x204.68 with 1 Axes>"
      ]
     },
     "execution_count": 2,
     "metadata": {},
     "output_type": "execute_result"
    }
   ],
   "source": [
    "# Preparing the circuit\n",
    "\n",
    "hardy_circuit = QuantumCircuit(2)\n",
    "hardy_circuit.initialize(np.array([1, 1, 1, 0])/np.sqrt(3))\n",
    "hardy_circuit.measure_all()\n",
    "\n",
    "hardy_circuit.draw(output=\"mpl\")"
   ]
  },
  {
   "cell_type": "markdown",
   "id": "66599fd6",
   "metadata": {
    "slideshow": {
     "slide_type": "skip"
    }
   },
   "source": [
    "We can find out the gates needed to create this state on a quantum computer by using the Qiskit transpiler, which shows the z-rotations, root-x gates and C-NOT gates we need."
   ]
  },
  {
   "cell_type": "code",
   "execution_count": 3,
   "id": "50771328",
   "metadata": {
    "slideshow": {
     "slide_type": "slide"
    }
   },
   "outputs": [
    {
     "data": {
      "image/png": "[encoded data removed]",
      "text/plain": [
       "<Figure size 906.838x204.68 with 1 Axes>"
      ]
     },
     "execution_count": 3,
     "metadata": {},
     "output_type": "execute_result"
    }
   ],
   "source": [
    "from qiskit import transpile\n",
    "\n",
    "from qiskit.providers.aer import AerSimulator\n",
    "from qiskit.test.mock import FakeParis\n",
    "\n",
    "backend_sim = AerSimulator.from_backend(FakeParis())\n",
    "transpile(hardy_circuit, backend_sim).draw(output='mpl', idle_wires=False)"
   ]
  },
  {
   "cell_type": "markdown",
   "id": "8b9fe12f",
   "metadata": {
    "slideshow": {
     "slide_type": "skip"
    }
   },
   "source": [
    "Now we give the first qubit to Alice, and the second qubit to Bob (so Alice is detecting the particle and Bob is detecting the antiparticle). \n",
    "\n",
    "Carol's first statement says that if Alice and Bob both measure their qubits in the z-basis, then at least one will get 0. We can see this directly from the state we have prepared, |00> + |10> + |01>, and confirm it by looking at the outcomes of running our quantum circuit. There is no 11 term.  "
   ]
  },
  {
   "cell_type": "code",
   "execution_count": 4,
   "id": "0d646af9",
   "metadata": {
    "slideshow": {
     "slide_type": "slide"
    }
   },
   "outputs": [
    {
     "data": {
      "image/png": "[encoded data removed]",
      "text/plain": [
       "<Figure size 504x360 with 1 Axes>"
      ]
     },
     "execution_count": 4,
     "metadata": {},
     "output_type": "execute_result"
    }
   ],
   "source": [
    "# Running the circuit \n",
    "\n",
    "from qiskit.providers.aer import QasmSimulator\n",
    "simulator = QasmSimulator()\n",
    "\n",
    "job = simulator.run(hardy_circuit, shots=8000)\n",
    "result = job.result()\n",
    "counts = result.get_counts(hardy_circuit)\n",
    "\n",
    "from qiskit.visualization import plot_histogram\n",
    "plot_histogram(counts)"
   ]
  },
  {
   "cell_type": "markdown",
   "id": "d9b4a052",
   "metadata": {
    "slideshow": {
     "slide_type": "skip"
    }
   },
   "source": [
    "Carol's second statement says that if Alice does a z-measurement and gets 0, then Bob must have |+>. This is true since we can write the quantum state as: \n",
    "\n",
    "|00> + |10> + |01>\n",
    "\n",
    "= |0>|+> + |10> \n",
    "\n",
    "\n",
    "Similarly, if Bob does a z-measurement and gets 0, then Alice must have |+>, since we can also write the state as: \n",
    "\n",
    "|+>|0> + |01>\n",
    "\n",
    "We can test this out by running a quantum circuit where Alice measures z and Bob measures x. There's no 01 outcome, indicating that every time Alice got 0, Bob got |+>. "
   ]
  },
  {
   "cell_type": "markdown",
   "id": "110653c6",
   "metadata": {
    "slideshow": {
     "slide_type": "slide"
    }
   },
   "source": [
    "|00> + |10> + |01>\n",
    "\n",
    "= |0>|+> + |10> \n",
    "\n",
    "= |+>|0> + |01>"
   ]
  },
  {
   "cell_type": "code",
   "execution_count": 5,
   "id": "1a38592b",
   "metadata": {
    "slideshow": {
     "slide_type": "slide"
    }
   },
   "outputs": [
    {
     "data": {
      "image/png": "[encoded data removed]",
      "text/plain": [
       "<Figure size 538.279x204.68 with 1 Axes>"
      ]
     },
     "execution_count": 5,
     "metadata": {},
     "output_type": "execute_result"
    }
   ],
   "source": [
    "# Alice measures z, Bob measures x\n",
    "\n",
    "hardy_circuit = QuantumCircuit(2)\n",
    "\n",
    "hardy_circuit.initialize(np.array([1, 1, 1, 0])/np.sqrt(3))\n",
    "hardy_circuit.h(1)\n",
    "\n",
    "hardy_circuit.measure_all()\n",
    "\n",
    "hardy_circuit.draw(output=\"mpl\")"
   ]
  },
  {
   "cell_type": "code",
   "execution_count": 6,
   "id": "ecc2f2c3",
   "metadata": {
    "slideshow": {
     "slide_type": "slide"
    }
   },
   "outputs": [
    {
     "data": {
      "image/png": "[encoded data removed]",
      "text/plain": [
       "<Figure size 504x360 with 1 Axes>"
      ]
     },
     "execution_count": 6,
     "metadata": {},
     "output_type": "execute_result"
    }
   ],
   "source": [
    "job = simulator.run(hardy_circuit, shots=1000)\n",
    "result = job.result()\n",
    "counts = result.get_counts(hardy_circuit)\n",
    "\n",
    "from qiskit.visualization import plot_histogram\n",
    "plot_histogram(counts)"
   ]
  },
  {
   "cell_type": "markdown",
   "id": "ced67a68",
   "metadata": {
    "slideshow": {
     "slide_type": "skip"
    }
   },
   "source": [
    "Likewise, when we run the circuit with Alice making an x-measurement and Bob making a z-measurement, there is no 10 term: "
   ]
  },
  {
   "cell_type": "code",
   "execution_count": 7,
   "id": "6e53b4ee",
   "metadata": {
    "slideshow": {
     "slide_type": "slide"
    }
   },
   "outputs": [
    {
     "data": {
      "image/png": "[encoded data removed]",
      "text/plain": [
       "<Figure size 538.279x204.68 with 1 Axes>"
      ]
     },
     "execution_count": 7,
     "metadata": {},
     "output_type": "execute_result"
    }
   ],
   "source": [
    "# Alice measures x, Bob measures z\n",
    "\n",
    "hardy_circuit = QuantumCircuit(2)\n",
    "\n",
    "hardy_circuit.initialize(np.array([1, 1, 1, 0])/np.sqrt(3))\n",
    "hardy_circuit.h(0)\n",
    "\n",
    "hardy_circuit.measure_all()\n",
    "\n",
    "hardy_circuit.draw(output=\"mpl\")"
   ]
  },
  {
   "cell_type": "code",
   "execution_count": 8,
   "id": "883efe9f",
   "metadata": {
    "slideshow": {
     "slide_type": "slide"
    }
   },
   "outputs": [
    {
     "data": {
      "image/png": "[encoded data removed]",
      "text/plain": [
       "<Figure size 504x360 with 1 Axes>"
      ]
     },
     "execution_count": 8,
     "metadata": {},
     "output_type": "execute_result"
    }
   ],
   "source": [
    "job = simulator.run(hardy_circuit, shots=1000)\n",
    "result = job.result()\n",
    "counts = result.get_counts(hardy_circuit)\n",
    "\n",
    "from qiskit.visualization import plot_histogram\n",
    "plot_histogram(counts)"
   ]
  },
  {
   "cell_type": "markdown",
   "id": "1819167e",
   "metadata": {
    "slideshow": {
     "slide_type": "skip"
    }
   },
   "source": [
    "Now what if we put our conclusions from these two quantum circuits together? We know at least one person—either Alice or Bob—would get 0 if we measure them in the z-basis, and we know that if one of them measures 0 in the z-basis, then the other must have |+>. Classical Carol's intuitive conclusion was that at least one of Alice and Bob's qubits must be in the |+> state. So now let's see what happens if we let them both do x-basis measurements, and run the circuit. "
   ]
  },
  {
   "cell_type": "code",
   "execution_count": 9,
   "id": "b8d031aa",
   "metadata": {
    "slideshow": {
     "slide_type": "slide"
    }
   },
   "outputs": [
    {
     "data": {
      "image/png": "[encoded data removed]",
      "text/plain": [
       "<Figure size 538.279x204.68 with 1 Axes>"
      ]
     },
     "execution_count": 9,
     "metadata": {},
     "output_type": "execute_result"
    }
   ],
   "source": [
    "# Alice measures x, Bob measures x\n",
    "\n",
    "hardy_circuit = QuantumCircuit(2)\n",
    "\n",
    "hardy_circuit.initialize(np.array([1, 1, 1, 0])/np.sqrt(3))\n",
    "hardy_circuit.h(0)\n",
    "hardy_circuit.h(1)\n",
    "\n",
    "hardy_circuit.measure_all()\n",
    "\n",
    "hardy_circuit.draw(output=\"mpl\")"
   ]
  },
  {
   "cell_type": "code",
   "execution_count": 10,
   "id": "bf7614ee",
   "metadata": {
    "slideshow": {
     "slide_type": "slide"
    }
   },
   "outputs": [
    {
     "data": {
      "image/png": "[encoded data removed]",
      "text/plain": [
       "<Figure size 504x360 with 1 Axes>"
      ]
     },
     "execution_count": 10,
     "metadata": {},
     "output_type": "execute_result"
    }
   ],
   "source": [
    "job = simulator.run(hardy_circuit, shots=1000)\n",
    "result = job.result()\n",
    "counts = result.get_counts(hardy_circuit)\n",
    "\n",
    "from qiskit.visualization import plot_histogram\n",
    "plot_histogram(counts)"
   ]
  },
  {
   "cell_type": "markdown",
   "id": "f1909129",
   "metadata": {
    "slideshow": {
     "slide_type": "skip"
    }
   },
   "source": [
    "We have a problem! There is some chance that we measure the outcome 11, corresponding to the |--> state, which contradicts our conclusion! \n",
    "\n",
    "This contradiction has drastic physical consequences in Hardy's original setup. According to classical Carol, we can only get the |--> state if neither Alice nor Bob would have got 0 if measured in the z-basis. This implies that the qubits were in the |11> state, which we said corresponds to a particle and antiparticle having gone down the same path, which is impossible - they should have annhililated each other.\n",
    "\n",
    "Hardy pointed out that Carol made an important classical assumption when she deduced that at least one person, either Alice or Bob, would get |+>. She assumed that Alice measuring her qubit will make no difference to Bob's qubit, which would be true classically. One resolution to the paradox is that Alice choosing to make an z-basis or x-basis measurement actually \"non-locally\" affects Bob's measurement outcomes, and vice-versa. However, the correct way of understanding the solution to the paradox, and the physical meaning of non-locality more generally, remains under debate.  \n",
    "\n",
    "So our game of two quantum truths and a lie reveals some strange quantum truths about non-locality. And this doesn't just work for the special entangled state I used for my game, but almost all entangled qubits. Can you create your own quantum lie detector, to tell the difference between two truths and a classically convincing lie?"
   ]
  }
 ],
 "metadata": {
  "celltoolbar": "Slideshow",
  "kernelspec": {
   "display_name": "Python 3 (ipykernel)",
   "language": "python",
   "name": "python3"
  },
  "language_info": {
   "codemirror_mode": {
    "name": "ipython",
    "version": 3
   },
   "file_extension": ".py",
   "mimetype": "text/x-python",
   "name": "python",
   "nbconvert_exporter": "python",
   "pygments_lexer": "ipython3",
   "version": "3.9.7"
  },
  "widgets": {
   "application/vnd.jupyter.widget-state+json": {
    "state": {},
    "version_major": 2,
    "version_minor": 0
   }
  }
 },
 "nbformat": 4,
 "nbformat_minor": 5
}
